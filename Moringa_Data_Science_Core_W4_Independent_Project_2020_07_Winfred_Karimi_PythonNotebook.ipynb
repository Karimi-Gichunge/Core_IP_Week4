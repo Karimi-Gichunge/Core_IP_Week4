{
  "nbformat": 4,
  "nbformat_minor": 0,
  "metadata": {
    "colab": {
      "name": "Moringa_Data_Science_Core_W4_Independent_Project_2020_07_Winfred_Karimi_PythonNotebook",
      "provenance": [],
      "collapsed_sections": [],
      "toc_visible": true,
      "include_colab_link": true
    },
    "kernelspec": {
      "name": "python3",
      "display_name": "Python 3"
    }
  },
  "cells": [
    {
      "cell_type": "markdown",
      "metadata": {
        "id": "view-in-github",
        "colab_type": "text"
      },
      "source": [
        "<a href=\"https://colab.research.google.com/github/Karimi-Gichunge/Core_IP_Week4/blob/master/Moringa_Data_Science_Core_W4_Independent_Project_2020_07_Winfred_Karimi_PythonNotebook.ipynb\" target=\"_parent\"><img src=\"https://colab.research.google.com/assets/colab-badge.svg\" alt=\"Open In Colab\"/></a>"
      ]
    },
    {
      "cell_type": "markdown",
      "metadata": {
        "id": "xMxtPsqcTsSH",
        "colab_type": "text"
      },
      "source": [
        "# Hypothesis Testing on Bluecar usage on different day types for Autolib Electric Carsharing "
      ]
    },
    {
      "cell_type": "markdown",
      "metadata": {
        "id": "kLG2VTrnTvYL",
        "colab_type": "text"
      },
      "source": [
        "## 1. Defining the Question"
      ]
    },
    {
      "cell_type": "markdown",
      "metadata": {
        "id": "XecOwPNorl2W",
        "colab_type": "text"
      },
      "source": [
        "### Problem Statement"
      ]
    },
    {
      "cell_type": "markdown",
      "metadata": {
        "id": "9ozBnKfehSAw",
        "colab_type": "text"
      },
      "source": [
        ">To investigate whether there is a viable difference between Bluecar usage on different day types, i.e weekdays or weekends"
      ]
    },
    {
      "cell_type": "markdown",
      "metadata": {
        "id": "zSGyg6kWsBUl",
        "colab_type": "text"
      },
      "source": [
        "### Hypothesis\n",
        "\n"
      ]
    },
    {
      "cell_type": "markdown",
      "metadata": {
        "id": "W33wahKz5s-K",
        "colab_type": "text"
      },
      "source": [
        "**Key**:\n",
        "\n",
        "mu₁: mean of bluecars taken during normal weekdays \n",
        "\n",
        "mu₂: mean of bluecars taken during the weekends\n",
        "\n",
        "**Null and Alternative hypothesis**\n",
        "\n",
        "Ho: mu₁ = mu₂\n",
        "\n",
        "H1: mu₁ != mu₂\n"
      ]
    },
    {
      "cell_type": "markdown",
      "metadata": {
        "id": "iUNbvIvnT7ep",
        "colab_type": "text"
      },
      "source": [
        "## 2. Reading the Data"
      ]
    },
    {
      "cell_type": "code",
      "metadata": {
        "id": "sneeWA-6ORxk",
        "colab_type": "code",
        "colab": {}
      },
      "source": [
        "#First we will import the necessary libraries\n",
        "import warnings\n",
        "warnings.filterwarnings('ignore')\n",
        "\n",
        "import numpy as np\n",
        "import pandas as pd\n",
        "import matplotlib.pyplot as plt\n",
        "import seaborn as sns\n",
        "import scipy.stats as stats\n"
      ],
      "execution_count": 1,
      "outputs": []
    },
    {
      "cell_type": "code",
      "metadata": {
        "id": "XJn2KjW-WMlG",
        "colab_type": "code",
        "colab": {
          "base_uri": "https://localhost:8080/",
          "height": 179
        },
        "outputId": "87a8665e-ce13-44eb-ca4b-f8899f55683b"
      },
      "source": [
        "# Loading the Data from the source\n",
        "# ---\n",
        "data = pd.read_csv('autolib_daily_events.csv')\n",
        "#Previewing the upper part of the data\n",
        "data.head(3)"
      ],
      "execution_count": 2,
      "outputs": [
        {
          "output_type": "execute_result",
          "data": {
            "text/html": [
              "<div>\n",
              "<style scoped>\n",
              "    .dataframe tbody tr th:only-of-type {\n",
              "        vertical-align: middle;\n",
              "    }\n",
              "\n",
              "    .dataframe tbody tr th {\n",
              "        vertical-align: top;\n",
              "    }\n",
              "\n",
              "    .dataframe thead th {\n",
              "        text-align: right;\n",
              "    }\n",
              "</style>\n",
              "<table border=\"1\" class=\"dataframe\">\n",
              "  <thead>\n",
              "    <tr style=\"text-align: right;\">\n",
              "      <th></th>\n",
              "      <th>Postal code</th>\n",
              "      <th>date</th>\n",
              "      <th>n_daily_data_points</th>\n",
              "      <th>dayOfWeek</th>\n",
              "      <th>day_type</th>\n",
              "      <th>BlueCars_taken_sum</th>\n",
              "      <th>BlueCars_returned_sum</th>\n",
              "      <th>Utilib_taken_sum</th>\n",
              "      <th>Utilib_returned_sum</th>\n",
              "      <th>Utilib_14_taken_sum</th>\n",
              "      <th>Utilib_14_returned_sum</th>\n",
              "      <th>Slots_freed_sum</th>\n",
              "      <th>Slots_taken_sum</th>\n",
              "    </tr>\n",
              "  </thead>\n",
              "  <tbody>\n",
              "    <tr>\n",
              "      <th>0</th>\n",
              "      <td>75001</td>\n",
              "      <td>1/1/2018</td>\n",
              "      <td>1440</td>\n",
              "      <td>0</td>\n",
              "      <td>weekday</td>\n",
              "      <td>110</td>\n",
              "      <td>103</td>\n",
              "      <td>3</td>\n",
              "      <td>2</td>\n",
              "      <td>10</td>\n",
              "      <td>9</td>\n",
              "      <td>22</td>\n",
              "      <td>20</td>\n",
              "    </tr>\n",
              "    <tr>\n",
              "      <th>1</th>\n",
              "      <td>75001</td>\n",
              "      <td>1/2/2018</td>\n",
              "      <td>1438</td>\n",
              "      <td>1</td>\n",
              "      <td>weekday</td>\n",
              "      <td>98</td>\n",
              "      <td>94</td>\n",
              "      <td>1</td>\n",
              "      <td>1</td>\n",
              "      <td>8</td>\n",
              "      <td>8</td>\n",
              "      <td>23</td>\n",
              "      <td>22</td>\n",
              "    </tr>\n",
              "    <tr>\n",
              "      <th>2</th>\n",
              "      <td>75001</td>\n",
              "      <td>1/3/2018</td>\n",
              "      <td>1439</td>\n",
              "      <td>2</td>\n",
              "      <td>weekday</td>\n",
              "      <td>138</td>\n",
              "      <td>139</td>\n",
              "      <td>0</td>\n",
              "      <td>0</td>\n",
              "      <td>2</td>\n",
              "      <td>2</td>\n",
              "      <td>27</td>\n",
              "      <td>27</td>\n",
              "    </tr>\n",
              "  </tbody>\n",
              "</table>\n",
              "</div>"
            ],
            "text/plain": [
              "   Postal code      date  ...  Slots_freed_sum  Slots_taken_sum\n",
              "0        75001  1/1/2018  ...               22               20\n",
              "1        75001  1/2/2018  ...               23               22\n",
              "2        75001  1/3/2018  ...               27               27\n",
              "\n",
              "[3 rows x 13 columns]"
            ]
          },
          "metadata": {
            "tags": []
          },
          "execution_count": 2
        }
      ]
    },
    {
      "cell_type": "code",
      "metadata": {
        "id": "N8p1JR8ZWqDA",
        "colab_type": "code",
        "colab": {
          "base_uri": "https://localhost:8080/",
          "height": 179
        },
        "outputId": "916ec676-41f8-4a64-95a4-82b372b797ad"
      },
      "source": [
        "#Previewing the lower part of the data\n",
        "data.tail(3)"
      ],
      "execution_count": 3,
      "outputs": [
        {
          "output_type": "execute_result",
          "data": {
            "text/html": [
              "<div>\n",
              "<style scoped>\n",
              "    .dataframe tbody tr th:only-of-type {\n",
              "        vertical-align: middle;\n",
              "    }\n",
              "\n",
              "    .dataframe tbody tr th {\n",
              "        vertical-align: top;\n",
              "    }\n",
              "\n",
              "    .dataframe thead th {\n",
              "        text-align: right;\n",
              "    }\n",
              "</style>\n",
              "<table border=\"1\" class=\"dataframe\">\n",
              "  <thead>\n",
              "    <tr style=\"text-align: right;\">\n",
              "      <th></th>\n",
              "      <th>Postal code</th>\n",
              "      <th>date</th>\n",
              "      <th>n_daily_data_points</th>\n",
              "      <th>dayOfWeek</th>\n",
              "      <th>day_type</th>\n",
              "      <th>BlueCars_taken_sum</th>\n",
              "      <th>BlueCars_returned_sum</th>\n",
              "      <th>Utilib_taken_sum</th>\n",
              "      <th>Utilib_returned_sum</th>\n",
              "      <th>Utilib_14_taken_sum</th>\n",
              "      <th>Utilib_14_returned_sum</th>\n",
              "      <th>Slots_freed_sum</th>\n",
              "      <th>Slots_taken_sum</th>\n",
              "    </tr>\n",
              "  </thead>\n",
              "  <tbody>\n",
              "    <tr>\n",
              "      <th>16082</th>\n",
              "      <td>95880</td>\n",
              "      <td>6/17/2018</td>\n",
              "      <td>1440</td>\n",
              "      <td>6</td>\n",
              "      <td>weekend</td>\n",
              "      <td>33</td>\n",
              "      <td>35</td>\n",
              "      <td>1</td>\n",
              "      <td>1</td>\n",
              "      <td>0</td>\n",
              "      <td>0</td>\n",
              "      <td>0</td>\n",
              "      <td>0</td>\n",
              "    </tr>\n",
              "    <tr>\n",
              "      <th>16083</th>\n",
              "      <td>95880</td>\n",
              "      <td>6/18/2018</td>\n",
              "      <td>1440</td>\n",
              "      <td>0</td>\n",
              "      <td>weekday</td>\n",
              "      <td>11</td>\n",
              "      <td>14</td>\n",
              "      <td>3</td>\n",
              "      <td>5</td>\n",
              "      <td>2</td>\n",
              "      <td>2</td>\n",
              "      <td>0</td>\n",
              "      <td>0</td>\n",
              "    </tr>\n",
              "    <tr>\n",
              "      <th>16084</th>\n",
              "      <td>95880</td>\n",
              "      <td>6/19/2018</td>\n",
              "      <td>1370</td>\n",
              "      <td>1</td>\n",
              "      <td>weekday</td>\n",
              "      <td>2</td>\n",
              "      <td>2</td>\n",
              "      <td>2</td>\n",
              "      <td>1</td>\n",
              "      <td>0</td>\n",
              "      <td>0</td>\n",
              "      <td>0</td>\n",
              "      <td>0</td>\n",
              "    </tr>\n",
              "  </tbody>\n",
              "</table>\n",
              "</div>"
            ],
            "text/plain": [
              "       Postal code       date  ...  Slots_freed_sum  Slots_taken_sum\n",
              "16082        95880  6/17/2018  ...                0                0\n",
              "16083        95880  6/18/2018  ...                0                0\n",
              "16084        95880  6/19/2018  ...                0                0\n",
              "\n",
              "[3 rows x 13 columns]"
            ]
          },
          "metadata": {
            "tags": []
          },
          "execution_count": 3
        }
      ]
    },
    {
      "cell_type": "markdown",
      "metadata": {
        "id": "OI3P3YnHUEBk",
        "colab_type": "text"
      },
      "source": [
        "## 3. Checking the Data"
      ]
    },
    {
      "cell_type": "code",
      "metadata": {
        "id": "YjSVNwgptHxY",
        "colab_type": "code",
        "colab": {
          "base_uri": "https://localhost:8080/",
          "height": 153
        },
        "outputId": "cfb38455-6b56-4df1-f80e-1423acb83b98"
      },
      "source": [
        "# Determining the no. of records in our dataset\n",
        "#\n",
        "print('Shape of dataset:')\n",
        "print(data.shape)\n",
        "#Getting column names\n",
        "print('Column names of dataset:')\n",
        "print(data.columns)"
      ],
      "execution_count": 4,
      "outputs": [
        {
          "output_type": "stream",
          "text": [
            "Shape of dataset:\n",
            "(16085, 13)\n",
            "Column names of dataset:\n",
            "Index(['Postal code', 'date', 'n_daily_data_points', 'dayOfWeek', 'day_type',\n",
            "       'BlueCars_taken_sum', 'BlueCars_returned_sum', 'Utilib_taken_sum',\n",
            "       'Utilib_returned_sum', 'Utilib_14_taken_sum', 'Utilib_14_returned_sum',\n",
            "       'Slots_freed_sum', 'Slots_taken_sum'],\n",
            "      dtype='object')\n"
          ],
          "name": "stdout"
        }
      ]
    },
    {
      "cell_type": "code",
      "metadata": {
        "id": "n8-dW4sQWzbc",
        "colab_type": "code",
        "colab": {
          "base_uri": "https://localhost:8080/",
          "height": 357
        },
        "outputId": "04d7f748-8ed5-4936-a9bd-22fcc6529db7"
      },
      "source": [
        "# Checking whether each column has an appropriate datatype\n",
        "data.info()"
      ],
      "execution_count": 5,
      "outputs": [
        {
          "output_type": "stream",
          "text": [
            "<class 'pandas.core.frame.DataFrame'>\n",
            "RangeIndex: 16085 entries, 0 to 16084\n",
            "Data columns (total 13 columns):\n",
            " #   Column                  Non-Null Count  Dtype \n",
            "---  ------                  --------------  ----- \n",
            " 0   Postal code             16085 non-null  int64 \n",
            " 1   date                    16085 non-null  object\n",
            " 2   n_daily_data_points     16085 non-null  int64 \n",
            " 3   dayOfWeek               16085 non-null  int64 \n",
            " 4   day_type                16085 non-null  object\n",
            " 5   BlueCars_taken_sum      16085 non-null  int64 \n",
            " 6   BlueCars_returned_sum   16085 non-null  int64 \n",
            " 7   Utilib_taken_sum        16085 non-null  int64 \n",
            " 8   Utilib_returned_sum     16085 non-null  int64 \n",
            " 9   Utilib_14_taken_sum     16085 non-null  int64 \n",
            " 10  Utilib_14_returned_sum  16085 non-null  int64 \n",
            " 11  Slots_freed_sum         16085 non-null  int64 \n",
            " 12  Slots_taken_sum         16085 non-null  int64 \n",
            "dtypes: int64(11), object(2)\n",
            "memory usage: 1.6+ MB\n"
          ],
          "name": "stdout"
        }
      ]
    },
    {
      "cell_type": "code",
      "metadata": {
        "id": "RS3NnmjtCLuJ",
        "colab_type": "code",
        "colab": {
          "base_uri": "https://localhost:8080/",
          "height": 255
        },
        "outputId": "dd9e26f2-ebc6-43ce-c8de-9c92e43ed8d9"
      },
      "source": [
        "#Checking for unique attributes from data\n",
        "data.nunique()"
      ],
      "execution_count": 6,
      "outputs": [
        {
          "output_type": "execute_result",
          "data": {
            "text/plain": [
              "Postal code               104\n",
              "date                      156\n",
              "n_daily_data_points        23\n",
              "dayOfWeek                   7\n",
              "day_type                    2\n",
              "BlueCars_taken_sum        932\n",
              "BlueCars_returned_sum     929\n",
              "Utilib_taken_sum           48\n",
              "Utilib_returned_sum        49\n",
              "Utilib_14_taken_sum        92\n",
              "Utilib_14_returned_sum     94\n",
              "Slots_freed_sum           297\n",
              "Slots_taken_sum           301\n",
              "dtype: int64"
            ]
          },
          "metadata": {
            "tags": []
          },
          "execution_count": 6
        }
      ]
    },
    {
      "cell_type": "code",
      "metadata": {
        "id": "-AY7TupSozyS",
        "colab_type": "code",
        "colab": {
          "base_uri": "https://localhost:8080/",
          "height": 357
        },
        "outputId": "a22fa35b-4d9f-4bc2-b373-b754a6fd9065"
      },
      "source": [
        "#Check for basic descriptive statistics for the numeric columns\n",
        "print('Basic Statistics for Blue Cars Returned:')\n",
        "print(data['BlueCars_returned_sum'].describe())\n",
        "\n",
        "print('Basic Statistics for Blue Cars Taken:')\n",
        "data['BlueCars_taken_sum'].describe()\n"
      ],
      "execution_count": 7,
      "outputs": [
        {
          "output_type": "stream",
          "text": [
            "Basic Statistics for Blue Cars Returned:\n",
            "count    16085.000000\n",
            "mean       125.912714\n",
            "std        185.501535\n",
            "min          0.000000\n",
            "25%         20.000000\n",
            "50%         46.000000\n",
            "75%        135.000000\n",
            "max       1332.000000\n",
            "Name: BlueCars_returned_sum, dtype: float64\n",
            "Basic Statistics for Blue Cars Taken:\n"
          ],
          "name": "stdout"
        },
        {
          "output_type": "execute_result",
          "data": {
            "text/plain": [
              "count    16085.000000\n",
              "mean       125.926951\n",
              "std        185.426579\n",
              "min          0.000000\n",
              "25%         20.000000\n",
              "50%         46.000000\n",
              "75%        135.000000\n",
              "max       1352.000000\n",
              "Name: BlueCars_taken_sum, dtype: float64"
            ]
          },
          "metadata": {
            "tags": []
          },
          "execution_count": 7
        }
      ]
    },
    {
      "cell_type": "markdown",
      "metadata": {
        "id": "Z8IAH181VqG3",
        "colab_type": "text"
      },
      "source": [
        "**Data Conclusion**\n",
        "\n",
        "The dataset has (16085 rows, 13 columns).\n",
        "\n",
        " Based on our research question, we can drop some of the columns that don't contain information on bluecars such as: 'Utilib_taken_sum',\n",
        "       'Utilib_returned_sum', 'Utilib_14_taken_sum', 'Utilib_14_returned_sum',\n",
        "       'Slots_freed_sum', 'Slots_taken_sum'. For easy analysis we will also change a few column names.\n",
        "\n",
        "Most of our data contains the right datatypes. We will change the datatypes of the columns postal code and date to int and datetime respectively.\n",
        "\n",
        "Our data contains no null values\n",
        "\n",
        "\n",
        "Basic Statistics for Blue Cars Returned:\n",
        "1. mean       125.912714\n",
        "2. std        185.501535\n",
        "3. min          0.000000\n",
        "4. 25%         20.000000\n",
        "5. 50%         46.000000\n",
        "6. 75%        135.000000\n",
        "7. max       1332.000000\n",
        "\n",
        "Basic Statistics for Blue Cars Taken:\n",
        "\n",
        "\n",
        "1.   mean       125.926951\n",
        "2. std        185.426579\n",
        "3. min          0.000000\n",
        "4. 25%         20.000000\n",
        "5. 50%         46.000000\n",
        "6. 75%        135.000000\n",
        "7. max       1352.000000\n",
        "\n",
        "\n",
        "\n",
        "\n"
      ]
    },
    {
      "cell_type": "markdown",
      "metadata": {
        "id": "FlBMxEDBUc9B",
        "colab_type": "text"
      },
      "source": [
        "## 4. Tidying the Dataset"
      ]
    },
    {
      "cell_type": "code",
      "metadata": {
        "id": "LSoXHhf1cs56",
        "colab_type": "code",
        "colab": {
          "base_uri": "https://localhost:8080/",
          "height": 34
        },
        "outputId": "ecf7203a-7057-4504-ebc0-7bb7e5b7d51b"
      },
      "source": [
        "#Dropping columns\n",
        "data1 = data.drop(columns=['n_daily_data_points', 'Utilib_taken_sum',\n",
        "       'Utilib_returned_sum', 'Utilib_14_taken_sum', 'Utilib_14_returned_sum',\n",
        "       'Slots_freed_sum', 'Slots_taken_sum'])\n",
        "data1.shape"
      ],
      "execution_count": 8,
      "outputs": [
        {
          "output_type": "execute_result",
          "data": {
            "text/plain": [
              "(16085, 6)"
            ]
          },
          "metadata": {
            "tags": []
          },
          "execution_count": 8
        }
      ]
    },
    {
      "cell_type": "code",
      "metadata": {
        "id": "5awbYLI5ds3p",
        "colab_type": "code",
        "colab": {
          "base_uri": "https://localhost:8080/",
          "height": 34
        },
        "outputId": "a89e3913-54e8-4e39-f8e1-44b9431fb109"
      },
      "source": [
        "#Checking for duplicates and dropping them\n",
        "data1 = data1.drop_duplicates()\n",
        "data1.shape"
      ],
      "execution_count": 9,
      "outputs": [
        {
          "output_type": "execute_result",
          "data": {
            "text/plain": [
              "(16085, 6)"
            ]
          },
          "metadata": {
            "tags": []
          },
          "execution_count": 9
        }
      ]
    },
    {
      "cell_type": "code",
      "metadata": {
        "id": "2wArfVozeaTG",
        "colab_type": "code",
        "colab": {
          "base_uri": "https://localhost:8080/",
          "height": 204
        },
        "outputId": "40a21ad1-15d3-4e32-a365-79cfe3aa5af5"
      },
      "source": [
        "#Changing column names\n",
        "data1.rename(columns={'BlueCars_taken_sum':'Bluecars_taken',\n",
        "                          'BlueCars_returned_sum': 'Bluecars_returned'\n",
        "                          }, \n",
        "                 inplace=True)\n",
        "data1.head()"
      ],
      "execution_count": 10,
      "outputs": [
        {
          "output_type": "execute_result",
          "data": {
            "text/html": [
              "<div>\n",
              "<style scoped>\n",
              "    .dataframe tbody tr th:only-of-type {\n",
              "        vertical-align: middle;\n",
              "    }\n",
              "\n",
              "    .dataframe tbody tr th {\n",
              "        vertical-align: top;\n",
              "    }\n",
              "\n",
              "    .dataframe thead th {\n",
              "        text-align: right;\n",
              "    }\n",
              "</style>\n",
              "<table border=\"1\" class=\"dataframe\">\n",
              "  <thead>\n",
              "    <tr style=\"text-align: right;\">\n",
              "      <th></th>\n",
              "      <th>Postal code</th>\n",
              "      <th>date</th>\n",
              "      <th>dayOfWeek</th>\n",
              "      <th>day_type</th>\n",
              "      <th>Bluecars_taken</th>\n",
              "      <th>Bluecars_returned</th>\n",
              "    </tr>\n",
              "  </thead>\n",
              "  <tbody>\n",
              "    <tr>\n",
              "      <th>0</th>\n",
              "      <td>75001</td>\n",
              "      <td>1/1/2018</td>\n",
              "      <td>0</td>\n",
              "      <td>weekday</td>\n",
              "      <td>110</td>\n",
              "      <td>103</td>\n",
              "    </tr>\n",
              "    <tr>\n",
              "      <th>1</th>\n",
              "      <td>75001</td>\n",
              "      <td>1/2/2018</td>\n",
              "      <td>1</td>\n",
              "      <td>weekday</td>\n",
              "      <td>98</td>\n",
              "      <td>94</td>\n",
              "    </tr>\n",
              "    <tr>\n",
              "      <th>2</th>\n",
              "      <td>75001</td>\n",
              "      <td>1/3/2018</td>\n",
              "      <td>2</td>\n",
              "      <td>weekday</td>\n",
              "      <td>138</td>\n",
              "      <td>139</td>\n",
              "    </tr>\n",
              "    <tr>\n",
              "      <th>3</th>\n",
              "      <td>75001</td>\n",
              "      <td>1/4/2018</td>\n",
              "      <td>3</td>\n",
              "      <td>weekday</td>\n",
              "      <td>104</td>\n",
              "      <td>104</td>\n",
              "    </tr>\n",
              "    <tr>\n",
              "      <th>4</th>\n",
              "      <td>75001</td>\n",
              "      <td>1/5/2018</td>\n",
              "      <td>4</td>\n",
              "      <td>weekday</td>\n",
              "      <td>114</td>\n",
              "      <td>117</td>\n",
              "    </tr>\n",
              "  </tbody>\n",
              "</table>\n",
              "</div>"
            ],
            "text/plain": [
              "   Postal code      date  dayOfWeek day_type  Bluecars_taken  Bluecars_returned\n",
              "0        75001  1/1/2018          0  weekday             110                103\n",
              "1        75001  1/2/2018          1  weekday              98                 94\n",
              "2        75001  1/3/2018          2  weekday             138                139\n",
              "3        75001  1/4/2018          3  weekday             104                104\n",
              "4        75001  1/5/2018          4  weekday             114                117"
            ]
          },
          "metadata": {
            "tags": []
          },
          "execution_count": 10
        }
      ]
    },
    {
      "cell_type": "code",
      "metadata": {
        "id": "5o_bQcT5W3Wz",
        "colab_type": "code",
        "colab": {
          "base_uri": "https://localhost:8080/",
          "height": 267
        },
        "outputId": "fec80045-fb29-4e61-ad9d-cf518dc56069"
      },
      "source": [
        "# Checking for Outliers\n",
        "#Let's start with the Bluecars_taken \n",
        "boxplot = data1.boxplot(column=['Bluecars_taken', 'Bluecars_returned'])\n"
      ],
      "execution_count": 11,
      "outputs": [
        {
          "output_type": "display_data",
          "data": {
            "image/png": "[encoded data removed]",
            "text/plain": [
              "<Figure size 432x288 with 1 Axes>"
            ]
          },
          "metadata": {
            "tags": [],
            "needs_background": "light"
          }
        }
      ]
    },
    {
      "cell_type": "code",
      "metadata": {
        "id": "W9vpd3zUZ_G_",
        "colab_type": "code",
        "colab": {
          "base_uri": "https://localhost:8080/",
          "height": 68
        },
        "outputId": "5f314c06-004c-4953-b543-7ddbae85e20f"
      },
      "source": [
        "#Removing the outliers/anomalies using percentile\n",
        "#Starting with the Bluecars taken Column\n",
        "max_threshold = data1['Bluecars_taken'].quantile(0.85)\n",
        "print(max_threshold)\n",
        "min_threshold = data1['Bluecars_taken'].quantile(0.15)\n",
        "print(min_threshold)\n",
        "data2 = data1[data1['Bluecars_taken']<= max_threshold]\n",
        "data2 = data1[data1['Bluecars_taken']> min_threshold]\n",
        "print(data2.shape)\n"
      ],
      "execution_count": 12,
      "outputs": [
        {
          "output_type": "stream",
          "text": [
            "284.0\n",
            "12.0\n",
            "(13621, 6)\n"
          ],
          "name": "stdout"
        }
      ]
    },
    {
      "cell_type": "code",
      "metadata": {
        "id": "QTgpP4wjXEq4",
        "colab_type": "code",
        "colab": {
          "base_uri": "https://localhost:8080/",
          "height": 68
        },
        "outputId": "f58ebd1f-0e4c-47dd-b956-8750561ace00"
      },
      "source": [
        "#Removing the outliers/anomalies in the Bluecars returned Column\n",
        "max_threshold1 = data2['Bluecars_returned'].quantile(0.85)\n",
        "print(max_threshold)\n",
        "min_threshold = data2['Bluecars_taken'].quantile(0.15)\n",
        "print(min_threshold)\n",
        "data3 = data2[data2['Bluecars_returned']<= max_threshold1]\n",
        "data3 = data2[data2['Bluecars_taken']> min_threshold]\n",
        "print(data3.shape)\n"
      ],
      "execution_count": 13,
      "outputs": [
        {
          "output_type": "stream",
          "text": [
            "284.0\n",
            "22.0\n",
            "(11569, 6)\n"
          ],
          "name": "stdout"
        }
      ]
    },
    {
      "cell_type": "code",
      "metadata": {
        "id": "4G_9v5kQvK2Z",
        "colab_type": "code",
        "colab": {
          "base_uri": "https://localhost:8080/",
          "height": 238
        },
        "outputId": "ede2cd1f-2836-40ed-d022-5bc223ef2ca4"
      },
      "source": [
        "#Converting datatypes\n",
        "data3['date']= pd.to_datetime(data3['date']) \n",
        "data3.info()"
      ],
      "execution_count": 14,
      "outputs": [
        {
          "output_type": "stream",
          "text": [
            "<class 'pandas.core.frame.DataFrame'>\n",
            "Int64Index: 11569 entries, 0 to 16082\n",
            "Data columns (total 6 columns):\n",
            " #   Column             Non-Null Count  Dtype         \n",
            "---  ------             --------------  -----         \n",
            " 0   Postal code        11569 non-null  int64         \n",
            " 1   date               11569 non-null  datetime64[ns]\n",
            " 2   dayOfWeek          11569 non-null  int64         \n",
            " 3   day_type           11569 non-null  object        \n",
            " 4   Bluecars_taken     11569 non-null  int64         \n",
            " 5   Bluecars_returned  11569 non-null  int64         \n",
            "dtypes: datetime64[ns](1), int64(4), object(1)\n",
            "memory usage: 632.7+ KB\n"
          ],
          "name": "stdout"
        }
      ]
    },
    {
      "cell_type": "markdown",
      "metadata": {
        "id": "MJvkyS8ja_2r",
        "colab_type": "text"
      },
      "source": [
        "## 5. Data Sampling"
      ]
    },
    {
      "cell_type": "markdown",
      "metadata": {
        "id": "7-UCu-DBAO46",
        "colab_type": "text"
      },
      "source": [
        "First we will use stratified sampling to create two datasets, one for weekends and another for weekdays. After which we will use simple random sampling with a sample size of 350 and 371 for weekends dataset and weekdays dataset respectively.\n",
        "\n",
        "The sample sizes were calculated using an online sample calculator."
      ]
    },
    {
      "cell_type": "code",
      "metadata": {
        "id": "RncEsA7v-dDm",
        "colab_type": "code",
        "colab": {
          "base_uri": "https://localhost:8080/",
          "height": 204
        },
        "outputId": "7bc462f0-5480-4219-c0c4-01ae8613914a"
      },
      "source": [
        "#We will take two samples one from weekdays and another from weekends\n",
        "weekdays_df = data3[data3['day_type'] == 'weekday']\n",
        "weekdays_df.reset_index(drop=True, inplace=True)\n",
        "weekdays_df.tail()"
      ],
      "execution_count": 15,
      "outputs": [
        {
          "output_type": "execute_result",
          "data": {
            "text/html": [
              "<div>\n",
              "<style scoped>\n",
              "    .dataframe tbody tr th:only-of-type {\n",
              "        vertical-align: middle;\n",
              "    }\n",
              "\n",
              "    .dataframe tbody tr th {\n",
              "        vertical-align: top;\n",
              "    }\n",
              "\n",
              "    .dataframe thead th {\n",
              "        text-align: right;\n",
              "    }\n",
              "</style>\n",
              "<table border=\"1\" class=\"dataframe\">\n",
              "  <thead>\n",
              "    <tr style=\"text-align: right;\">\n",
              "      <th></th>\n",
              "      <th>Postal code</th>\n",
              "      <th>date</th>\n",
              "      <th>dayOfWeek</th>\n",
              "      <th>day_type</th>\n",
              "      <th>Bluecars_taken</th>\n",
              "      <th>Bluecars_returned</th>\n",
              "    </tr>\n",
              "  </thead>\n",
              "  <tbody>\n",
              "    <tr>\n",
              "      <th>8031</th>\n",
              "      <td>95880</td>\n",
              "      <td>2018-04-02</td>\n",
              "      <td>0</td>\n",
              "      <td>weekday</td>\n",
              "      <td>36</td>\n",
              "      <td>31</td>\n",
              "    </tr>\n",
              "    <tr>\n",
              "      <th>8032</th>\n",
              "      <td>95880</td>\n",
              "      <td>2018-05-01</td>\n",
              "      <td>1</td>\n",
              "      <td>weekday</td>\n",
              "      <td>24</td>\n",
              "      <td>25</td>\n",
              "    </tr>\n",
              "    <tr>\n",
              "      <th>8033</th>\n",
              "      <td>95880</td>\n",
              "      <td>2018-05-08</td>\n",
              "      <td>1</td>\n",
              "      <td>weekday</td>\n",
              "      <td>31</td>\n",
              "      <td>32</td>\n",
              "    </tr>\n",
              "    <tr>\n",
              "      <th>8034</th>\n",
              "      <td>95880</td>\n",
              "      <td>2018-05-21</td>\n",
              "      <td>0</td>\n",
              "      <td>weekday</td>\n",
              "      <td>26</td>\n",
              "      <td>27</td>\n",
              "    </tr>\n",
              "    <tr>\n",
              "      <th>8035</th>\n",
              "      <td>95880</td>\n",
              "      <td>2018-06-12</td>\n",
              "      <td>1</td>\n",
              "      <td>weekday</td>\n",
              "      <td>25</td>\n",
              "      <td>25</td>\n",
              "    </tr>\n",
              "  </tbody>\n",
              "</table>\n",
              "</div>"
            ],
            "text/plain": [
              "      Postal code       date  ...  Bluecars_taken Bluecars_returned\n",
              "8031        95880 2018-04-02  ...              36                31\n",
              "8032        95880 2018-05-01  ...              24                25\n",
              "8033        95880 2018-05-08  ...              31                32\n",
              "8034        95880 2018-05-21  ...              26                27\n",
              "8035        95880 2018-06-12  ...              25                25\n",
              "\n",
              "[5 rows x 6 columns]"
            ]
          },
          "metadata": {
            "tags": []
          },
          "execution_count": 15
        }
      ]
    },
    {
      "cell_type": "code",
      "metadata": {
        "id": "-PxZcnZ5hLcM",
        "colab_type": "code",
        "colab": {
          "base_uri": "https://localhost:8080/",
          "height": 142
        },
        "outputId": "f7a3ebd8-cabb-46d8-b155-e82eb3757ab1"
      },
      "source": [
        "weekends_df = data3[data3['day_type'] == 'weekend']\n",
        "weekends_df.reset_index(drop=True, inplace= True)\n",
        "weekends_df.tail(3)"
      ],
      "execution_count": 16,
      "outputs": [
        {
          "output_type": "execute_result",
          "data": {
            "text/html": [
              "<div>\n",
              "<style scoped>\n",
              "    .dataframe tbody tr th:only-of-type {\n",
              "        vertical-align: middle;\n",
              "    }\n",
              "\n",
              "    .dataframe tbody tr th {\n",
              "        vertical-align: top;\n",
              "    }\n",
              "\n",
              "    .dataframe thead th {\n",
              "        text-align: right;\n",
              "    }\n",
              "</style>\n",
              "<table border=\"1\" class=\"dataframe\">\n",
              "  <thead>\n",
              "    <tr style=\"text-align: right;\">\n",
              "      <th></th>\n",
              "      <th>Postal code</th>\n",
              "      <th>date</th>\n",
              "      <th>dayOfWeek</th>\n",
              "      <th>day_type</th>\n",
              "      <th>Bluecars_taken</th>\n",
              "      <th>Bluecars_returned</th>\n",
              "    </tr>\n",
              "  </thead>\n",
              "  <tbody>\n",
              "    <tr>\n",
              "      <th>3530</th>\n",
              "      <td>95880</td>\n",
              "      <td>2018-06-03</td>\n",
              "      <td>6</td>\n",
              "      <td>weekend</td>\n",
              "      <td>36</td>\n",
              "      <td>33</td>\n",
              "    </tr>\n",
              "    <tr>\n",
              "      <th>3531</th>\n",
              "      <td>95880</td>\n",
              "      <td>2018-06-10</td>\n",
              "      <td>6</td>\n",
              "      <td>weekend</td>\n",
              "      <td>34</td>\n",
              "      <td>32</td>\n",
              "    </tr>\n",
              "    <tr>\n",
              "      <th>3532</th>\n",
              "      <td>95880</td>\n",
              "      <td>2018-06-17</td>\n",
              "      <td>6</td>\n",
              "      <td>weekend</td>\n",
              "      <td>33</td>\n",
              "      <td>35</td>\n",
              "    </tr>\n",
              "  </tbody>\n",
              "</table>\n",
              "</div>"
            ],
            "text/plain": [
              "      Postal code       date  ...  Bluecars_taken Bluecars_returned\n",
              "3530        95880 2018-06-03  ...              36                33\n",
              "3531        95880 2018-06-10  ...              34                32\n",
              "3532        95880 2018-06-17  ...              33                35\n",
              "\n",
              "[3 rows x 6 columns]"
            ]
          },
          "metadata": {
            "tags": []
          },
          "execution_count": 16
        }
      ]
    },
    {
      "cell_type": "code",
      "metadata": {
        "id": "SYpwm0-QBru4",
        "colab_type": "code",
        "colab": {}
      },
      "source": [
        "import random  \n",
        "from random import sample"
      ],
      "execution_count": 17,
      "outputs": []
    },
    {
      "cell_type": "code",
      "metadata": {
        "id": "ji46abKOidag",
        "colab_type": "code",
        "colab": {
          "base_uri": "https://localhost:8080/",
          "height": 34
        },
        "outputId": "79f8c0d7-6872-47e6-8446-d70a2a734d8c"
      },
      "source": [
        "#Random sampling for weekdays_df\n",
        "sample_weekday_df =weekdays_df.sample(n=371,replace=\"False\")\n",
        "sample_weekday_df.shape"
      ],
      "execution_count": 18,
      "outputs": [
        {
          "output_type": "execute_result",
          "data": {
            "text/plain": [
              "(371, 6)"
            ]
          },
          "metadata": {
            "tags": []
          },
          "execution_count": 18
        }
      ]
    },
    {
      "cell_type": "code",
      "metadata": {
        "id": "Ps1ZlEw5DPo6",
        "colab_type": "code",
        "colab": {
          "base_uri": "https://localhost:8080/",
          "height": 238
        },
        "outputId": "375829fa-6003-40bf-b00b-6a7d51f5ca5d"
      },
      "source": [
        "#Random sampling for weekends_df\n",
        "sample_weekend_df =weekends_df.sample(n=350,replace=\"False\")\n",
        "sample_weekend_df.info()"
      ],
      "execution_count": 19,
      "outputs": [
        {
          "output_type": "stream",
          "text": [
            "<class 'pandas.core.frame.DataFrame'>\n",
            "Int64Index: 350 entries, 1430 to 3059\n",
            "Data columns (total 6 columns):\n",
            " #   Column             Non-Null Count  Dtype         \n",
            "---  ------             --------------  -----         \n",
            " 0   Postal code        350 non-null    int64         \n",
            " 1   date               350 non-null    datetime64[ns]\n",
            " 2   dayOfWeek          350 non-null    int64         \n",
            " 3   day_type           350 non-null    object        \n",
            " 4   Bluecars_taken     350 non-null    int64         \n",
            " 5   Bluecars_returned  350 non-null    int64         \n",
            "dtypes: datetime64[ns](1), int64(4), object(1)\n",
            "memory usage: 19.1+ KB\n"
          ],
          "name": "stdout"
        }
      ]
    },
    {
      "cell_type": "markdown",
      "metadata": {
        "id": "rF2ABPsHUtbZ",
        "colab_type": "text"
      },
      "source": [
        "## 6. Exploratory Analysis"
      ]
    },
    {
      "cell_type": "markdown",
      "metadata": {
        "id": "1yrEIEOkxTF7",
        "colab_type": "text"
      },
      "source": [
        "**Univariate Analysis**:\n",
        "We will be dealing with numerical variables and we will be checking the following properties:\n",
        "\n",
        "Mean\n",
        "Median\n",
        "Standard Deviation\n",
        "Kurtosis/skewness\n",
        "distribution/range\n",
        "We will also plot to visualize our data each at a time\n",
        "\n"
      ]
    },
    {
      "cell_type": "code",
      "metadata": {
        "id": "Bndvc_d91NUt",
        "colab_type": "code",
        "colab": {
          "base_uri": "https://localhost:8080/",
          "height": 255
        },
        "outputId": "d213f8e9-ed3e-42e0-fc55-30dfbc424142"
      },
      "source": [
        "#Calculate measures of central tendency for weekday sample dataset\n",
        "print('Measures of central tendency for sample weekday dataset: ')\n",
        "df= sample_weekday_df[['Bluecars_returned', 'Bluecars_taken']]\n",
        "print('Mean is: ')\n",
        "print(df.mean())\n",
        "print('Mode is: ')\n",
        "print(df.mode())\n",
        "print('Median is: ')\n",
        "print(df.median())\n"
      ],
      "execution_count": 20,
      "outputs": [
        {
          "output_type": "stream",
          "text": [
            "Measures of central tendency for sample weekday dataset: \n",
            "Mean is: \n",
            "Bluecars_returned    164.87062\n",
            "Bluecars_taken       165.97035\n",
            "dtype: float64\n",
            "Mode is: \n",
            "   Bluecars_returned  Bluecars_taken\n",
            "0                 26              23\n",
            "1                 30              35\n",
            "2                 47              53\n",
            "Median is: \n",
            "Bluecars_returned    78.0\n",
            "Bluecars_taken       81.0\n",
            "dtype: float64\n"
          ],
          "name": "stdout"
        }
      ]
    },
    {
      "cell_type": "code",
      "metadata": {
        "id": "487yrBgK4bSp",
        "colab_type": "code",
        "colab": {
          "base_uri": "https://localhost:8080/",
          "height": 153
        },
        "outputId": "a911ce5c-e579-4728-ca65-7383af5f2cfb"
      },
      "source": [
        "#Get min, max and range\n",
        "print('Minimum usage is: ')\n",
        "print(df.min())\n",
        "print('Maximum usage was is: ')\n",
        "print(df.max())\n"
      ],
      "execution_count": 21,
      "outputs": [
        {
          "output_type": "stream",
          "text": [
            "Minimum usage is: \n",
            "Bluecars_returned    18\n",
            "Bluecars_taken       23\n",
            "dtype: int64\n",
            "Maximum usage was is: \n",
            "Bluecars_returned    1039\n",
            "Bluecars_taken       1089\n",
            "dtype: int64\n"
          ],
          "name": "stdout"
        }
      ]
    },
    {
      "cell_type": "code",
      "metadata": {
        "id": "Yy9Q6M2WLcDC",
        "colab_type": "code",
        "colab": {
          "base_uri": "https://localhost:8080/",
          "height": 85
        },
        "outputId": "ca6deb90-7ef9-4542-edc0-7b60c84ea14e"
      },
      "source": [
        "#Calculate quantiles\n",
        "quantiles = df.quantile([0.25,0.5,0.75])\n",
        "print(quantiles)\n"
      ],
      "execution_count": 22,
      "outputs": [
        {
          "output_type": "stream",
          "text": [
            "      Bluecars_returned  Bluecars_taken\n",
            "0.25               40.0            39.0\n",
            "0.50               78.0            81.0\n",
            "0.75              262.5           268.5\n"
          ],
          "name": "stdout"
        }
      ]
    },
    {
      "cell_type": "code",
      "metadata": {
        "id": "6p2ns-EsAlRx",
        "colab_type": "code",
        "colab": {
          "base_uri": "https://localhost:8080/",
          "height": 153
        },
        "outputId": "04eaa0ec-c0d9-4838-9ef3-4700918dff1a"
      },
      "source": [
        "#Calculating measures of dispersion\n",
        "print('Skew is: ')\n",
        "print(df.skew())\n",
        "print('Kurtosis is: ')\n",
        "print(df.kurtosis())\n"
      ],
      "execution_count": 23,
      "outputs": [
        {
          "output_type": "stream",
          "text": [
            "Skew is: \n",
            "Bluecars_returned    1.740726\n",
            "Bluecars_taken       1.773511\n",
            "dtype: float64\n",
            "Kurtosis is: \n",
            "Bluecars_returned    2.940894\n",
            "Bluecars_taken       3.221362\n",
            "dtype: float64\n"
          ],
          "name": "stdout"
        }
      ]
    },
    {
      "cell_type": "markdown",
      "metadata": {
        "id": "2vPBqBsrFpBu",
        "colab_type": "text"
      },
      "source": [
        "**Sample weekday observation**:\n",
        "\n",
        "1.  The number of Bluecars taken and that returned seems to have a relationship. The mean, mode and Median numbers of cars taken and those returned is practically the same.\n",
        "\n",
        "2.   Both distributions (Bluecars taken and Bluecars returned) are highly skewed to the right.\n",
        "\n",
        "\n",
        "\n"
      ]
    },
    {
      "cell_type": "code",
      "metadata": {
        "id": "xgcFBNDGJjUa",
        "colab_type": "code",
        "colab": {
          "base_uri": "https://localhost:8080/",
          "height": 314
        },
        "outputId": "015ee48a-9504-4652-8409-abd3ec44df5d"
      },
      "source": [
        "#Calculate measures of central tendency for weekend sample dataset\n",
        "print('Measures of central tendency for sample weekend dataset: ')\n",
        "\n",
        "df= sample_weekend_df[['Bluecars_returned', 'Bluecars_taken']]\n",
        "df.describe()"
      ],
      "execution_count": 24,
      "outputs": [
        {
          "output_type": "stream",
          "text": [
            "Measures of central tendency for sample weekend dataset: \n"
          ],
          "name": "stdout"
        },
        {
          "output_type": "execute_result",
          "data": {
            "text/html": [
              "<div>\n",
              "<style scoped>\n",
              "    .dataframe tbody tr th:only-of-type {\n",
              "        vertical-align: middle;\n",
              "    }\n",
              "\n",
              "    .dataframe tbody tr th {\n",
              "        vertical-align: top;\n",
              "    }\n",
              "\n",
              "    .dataframe thead th {\n",
              "        text-align: right;\n",
              "    }\n",
              "</style>\n",
              "<table border=\"1\" class=\"dataframe\">\n",
              "  <thead>\n",
              "    <tr style=\"text-align: right;\">\n",
              "      <th></th>\n",
              "      <th>Bluecars_returned</th>\n",
              "      <th>Bluecars_taken</th>\n",
              "    </tr>\n",
              "  </thead>\n",
              "  <tbody>\n",
              "    <tr>\n",
              "      <th>count</th>\n",
              "      <td>350.000000</td>\n",
              "      <td>350.000000</td>\n",
              "    </tr>\n",
              "    <tr>\n",
              "      <th>mean</th>\n",
              "      <td>184.985714</td>\n",
              "      <td>183.268571</td>\n",
              "    </tr>\n",
              "    <tr>\n",
              "      <th>std</th>\n",
              "      <td>223.522637</td>\n",
              "      <td>219.362797</td>\n",
              "    </tr>\n",
              "    <tr>\n",
              "      <th>min</th>\n",
              "      <td>18.000000</td>\n",
              "      <td>23.000000</td>\n",
              "    </tr>\n",
              "    <tr>\n",
              "      <th>25%</th>\n",
              "      <td>44.000000</td>\n",
              "      <td>47.000000</td>\n",
              "    </tr>\n",
              "    <tr>\n",
              "      <th>50%</th>\n",
              "      <td>86.000000</td>\n",
              "      <td>86.500000</td>\n",
              "    </tr>\n",
              "    <tr>\n",
              "      <th>75%</th>\n",
              "      <td>245.500000</td>\n",
              "      <td>239.750000</td>\n",
              "    </tr>\n",
              "    <tr>\n",
              "      <th>max</th>\n",
              "      <td>1214.000000</td>\n",
              "      <td>1248.000000</td>\n",
              "    </tr>\n",
              "  </tbody>\n",
              "</table>\n",
              "</div>"
            ],
            "text/plain": [
              "       Bluecars_returned  Bluecars_taken\n",
              "count         350.000000      350.000000\n",
              "mean          184.985714      183.268571\n",
              "std           223.522637      219.362797\n",
              "min            18.000000       23.000000\n",
              "25%            44.000000       47.000000\n",
              "50%            86.000000       86.500000\n",
              "75%           245.500000      239.750000\n",
              "max          1214.000000     1248.000000"
            ]
          },
          "metadata": {
            "tags": []
          },
          "execution_count": 24
        }
      ]
    },
    {
      "cell_type": "code",
      "metadata": {
        "id": "ijrEKOVUKoRa",
        "colab_type": "code",
        "colab": {
          "base_uri": "https://localhost:8080/",
          "height": 153
        },
        "outputId": "a49cfae1-96aa-449e-9792-b24646aa8888"
      },
      "source": [
        "#Calculating measures of dispersion\n",
        "print('Skew is: ')\n",
        "print(df.skew())\n",
        "print('Kurtosis is: ')\n",
        "print(df.kurtosis())"
      ],
      "execution_count": 25,
      "outputs": [
        {
          "output_type": "stream",
          "text": [
            "Skew is: \n",
            "Bluecars_returned    1.984333\n",
            "Bluecars_taken       2.013807\n",
            "dtype: float64\n",
            "Kurtosis is: \n",
            "Bluecars_returned    3.750022\n",
            "Bluecars_taken       3.964647\n",
            "dtype: float64\n"
          ],
          "name": "stdout"
        }
      ]
    },
    {
      "cell_type": "markdown",
      "metadata": {
        "id": "GuZYMrAoLK_h",
        "colab_type": "text"
      },
      "source": [
        "**Sample weekend observation**:\n",
        "\n",
        "1.  The number of Bluecars taken and that returned seems to have a relationship. The mean, mode and Median numbers of cars taken and those returned is practically the same.\n",
        "\n",
        "2.   Both distributions (Bluecars taken and Bluecars returned) are highly skewed to the right.\n",
        "\n",
        "A similar observation can be noted for observations taken during the normal weekdays.\n",
        "\n",
        "\n",
        "However the mean of Blue car usage is relatively higher during the weekend compared to the weekdays\n"
      ]
    },
    {
      "cell_type": "code",
      "metadata": {
        "id": "5nnRToniXGDK",
        "colab_type": "code",
        "colab": {
          "base_uri": "https://localhost:8080/",
          "height": 238
        },
        "outputId": "0571c241-0e37-41dd-a33d-381e44c5bd63"
      },
      "source": [
        "# Univariate Analysis\n",
        "#Frequency tables\n",
        "df_swd= sample_weekday_df[['date', 'dayOfWeek','Bluecars_returned', 'Bluecars_taken']]\n",
        "days = df_swd.groupby('dayOfWeek')\n",
        "days.Bluecars_taken.value_counts()"
      ],
      "execution_count": 26,
      "outputs": [
        {
          "output_type": "execute_result",
          "data": {
            "text/plain": [
              "dayOfWeek  Bluecars_taken\n",
              "0          32                3\n",
              "           141               3\n",
              "           23                2\n",
              "           27                2\n",
              "           28                2\n",
              "                            ..\n",
              "4          487               1\n",
              "           546               1\n",
              "           724               1\n",
              "           746               1\n",
              "           1089              1\n",
              "Name: Bluecars_taken, Length: 297, dtype: int64"
            ]
          },
          "metadata": {
            "tags": []
          },
          "execution_count": 26
        }
      ]
    },
    {
      "cell_type": "code",
      "metadata": {
        "id": "1MPUtkdgJFav",
        "colab_type": "code",
        "colab": {
          "base_uri": "https://localhost:8080/",
          "height": 295
        },
        "outputId": "3a1b9c48-e0cc-4097-da62-2b7fdc58980a"
      },
      "source": [
        "#Plotting a Bluecars taken histogram for weekdays dataset\n",
        "Bluecars_taken = df_swd['Bluecars_taken']\n",
        "\n",
        "plt.hist(Bluecars_taken, bins=10, histtype='bar', rwidth=0.9)\n",
        "plt.xlabel('Bluecars Taken')\n",
        "plt.ylabel('Frequency')\n",
        "plt.title('Histogram of Bluecars taken vs frequency')\n",
        "plt.show()\n",
        "#From the histogram we can see that our data is not normally distributed\n",
        "#And that most observations are between 0 and 50"
      ],
      "execution_count": 27,
      "outputs": [
        {
          "output_type": "display_data",
          "data": {
            "image/png": "[encoded data removed]",
            "text/plain": [
              "<Figure size 432x288 with 1 Axes>"
            ]
          },
          "metadata": {
            "tags": [],
            "needs_background": "light"
          }
        }
      ]
    },
    {
      "cell_type": "code",
      "metadata": {
        "id": "6UzyQC6kmdBi",
        "colab_type": "code",
        "colab": {
          "base_uri": "https://localhost:8080/",
          "height": 295
        },
        "outputId": "c11eb003-0ea9-429f-82e0-878ceb57c596"
      },
      "source": [
        "#Plotting a Bluecars taken histogram for weekends dataset\n",
        "df_sample_weekend= sample_weekend_df[['date', 'dayOfWeek','Bluecars_returned', 'Bluecars_taken']]\n",
        "Bluecars_taken = df_sample_weekend['Bluecars_taken']\n",
        "\n",
        "plt.hist(Bluecars_taken, bins=10, histtype='bar', rwidth=0.9)\n",
        "plt.xlabel('Bluecars Taken')\n",
        "plt.ylabel('Frequency')\n",
        "plt.title('Histogram of Bluecars taken vs frequency')\n",
        "plt.show()\n",
        "#From the histogram we can see that data from the weekends is not normally distributed\n",
        "#And that most observations of bluecars taken are between 0 and 50"
      ],
      "execution_count": 28,
      "outputs": [
        {
          "output_type": "display_data",
          "data": {
            "image/png": "[encoded data removed]",
            "text/plain": [
              "<Figure size 432x288 with 1 Axes>"
            ]
          },
          "metadata": {
            "tags": [],
            "needs_background": "light"
          }
        }
      ]
    },
    {
      "cell_type": "markdown",
      "metadata": {
        "id": "Pcl4zl0nI-AO",
        "colab_type": "text"
      },
      "source": [
        "**Summary**\n",
        "1.  Observations from both weekdays and weekends are not normally distributed\n",
        "2.  Most stations rent out cars between 0 and 100 in both occasions\n",
        "\n"
      ]
    },
    {
      "cell_type": "markdown",
      "metadata": {
        "id": "Yec_xL0rTmGE",
        "colab_type": "text"
      },
      "source": [
        "**Bivariate Analysis**: At this point we will check relationships and differences between Bluecars returned and Bluecars taken from both weekends and weekdays. "
      ]
    },
    {
      "cell_type": "code",
      "metadata": {
        "id": "OAq_ti9eW3o5",
        "colab_type": "code",
        "colab": {
          "base_uri": "https://localhost:8080/",
          "height": 204
        },
        "outputId": "c6866841-ba2d-4522-9cca-32e1ca7c3339"
      },
      "source": [
        "#Numeric-Numeric Variables\n",
        "#We will be checking the relationship between bluecars returned and bluecars\n",
        "# taken for weekends\n",
        "df= sample_weekend_df[['Bluecars_returned', 'Bluecars_taken']]\n",
        "df.reset_index(drop=True, inplace= True)\n",
        "df.head()"
      ],
      "execution_count": 29,
      "outputs": [
        {
          "output_type": "execute_result",
          "data": {
            "text/html": [
              "<div>\n",
              "<style scoped>\n",
              "    .dataframe tbody tr th:only-of-type {\n",
              "        vertical-align: middle;\n",
              "    }\n",
              "\n",
              "    .dataframe tbody tr th {\n",
              "        vertical-align: top;\n",
              "    }\n",
              "\n",
              "    .dataframe thead th {\n",
              "        text-align: right;\n",
              "    }\n",
              "</style>\n",
              "<table border=\"1\" class=\"dataframe\">\n",
              "  <thead>\n",
              "    <tr style=\"text-align: right;\">\n",
              "      <th></th>\n",
              "      <th>Bluecars_returned</th>\n",
              "      <th>Bluecars_taken</th>\n",
              "    </tr>\n",
              "  </thead>\n",
              "  <tbody>\n",
              "    <tr>\n",
              "      <th>0</th>\n",
              "      <td>88</td>\n",
              "      <td>92</td>\n",
              "    </tr>\n",
              "    <tr>\n",
              "      <th>1</th>\n",
              "      <td>204</td>\n",
              "      <td>221</td>\n",
              "    </tr>\n",
              "    <tr>\n",
              "      <th>2</th>\n",
              "      <td>153</td>\n",
              "      <td>155</td>\n",
              "    </tr>\n",
              "    <tr>\n",
              "      <th>3</th>\n",
              "      <td>44</td>\n",
              "      <td>50</td>\n",
              "    </tr>\n",
              "    <tr>\n",
              "      <th>4</th>\n",
              "      <td>29</td>\n",
              "      <td>28</td>\n",
              "    </tr>\n",
              "  </tbody>\n",
              "</table>\n",
              "</div>"
            ],
            "text/plain": [
              "   Bluecars_returned  Bluecars_taken\n",
              "0                 88              92\n",
              "1                204             221\n",
              "2                153             155\n",
              "3                 44              50\n",
              "4                 29              28"
            ]
          },
          "metadata": {
            "tags": []
          },
          "execution_count": 29
        }
      ]
    },
    {
      "cell_type": "code",
      "metadata": {
        "id": "z6zop2JxXZcF",
        "colab_type": "code",
        "colab": {
          "base_uri": "https://localhost:8080/",
          "height": 111
        },
        "outputId": "6d152723-a7e9-427e-b478-2dc34503420a"
      },
      "source": [
        "#Calculating correlation\n",
        "correlation = df.dropna().corr()\n",
        "correlation"
      ],
      "execution_count": 30,
      "outputs": [
        {
          "output_type": "execute_result",
          "data": {
            "text/html": [
              "<div>\n",
              "<style scoped>\n",
              "    .dataframe tbody tr th:only-of-type {\n",
              "        vertical-align: middle;\n",
              "    }\n",
              "\n",
              "    .dataframe tbody tr th {\n",
              "        vertical-align: top;\n",
              "    }\n",
              "\n",
              "    .dataframe thead th {\n",
              "        text-align: right;\n",
              "    }\n",
              "</style>\n",
              "<table border=\"1\" class=\"dataframe\">\n",
              "  <thead>\n",
              "    <tr style=\"text-align: right;\">\n",
              "      <th></th>\n",
              "      <th>Bluecars_returned</th>\n",
              "      <th>Bluecars_taken</th>\n",
              "    </tr>\n",
              "  </thead>\n",
              "  <tbody>\n",
              "    <tr>\n",
              "      <th>Bluecars_returned</th>\n",
              "      <td>1.000000</td>\n",
              "      <td>0.998344</td>\n",
              "    </tr>\n",
              "    <tr>\n",
              "      <th>Bluecars_taken</th>\n",
              "      <td>0.998344</td>\n",
              "      <td>1.000000</td>\n",
              "    </tr>\n",
              "  </tbody>\n",
              "</table>\n",
              "</div>"
            ],
            "text/plain": [
              "                   Bluecars_returned  Bluecars_taken\n",
              "Bluecars_returned           1.000000        0.998344\n",
              "Bluecars_taken              0.998344        1.000000"
            ]
          },
          "metadata": {
            "tags": []
          },
          "execution_count": 30
        }
      ]
    },
    {
      "cell_type": "code",
      "metadata": {
        "id": "3EO7O_jCXhJ_",
        "colab_type": "code",
        "colab": {
          "base_uri": "https://localhost:8080/",
          "height": 287
        },
        "outputId": "d05044e9-7259-436f-a01f-4a8f3b0613cb"
      },
      "source": [
        "#plotting a correlation heatmap\n",
        "sns.heatmap(correlation, xticklabels=correlation.columns, yticklabels=correlation.columns, annot=True)\n",
        "#There is a perfect correlation between bluecars taken and bluecars returned"
      ],
      "execution_count": 31,
      "outputs": [
        {
          "output_type": "execute_result",
          "data": {
            "text/plain": [
              "<matplotlib.axes._subplots.AxesSubplot at 0x7f112b3ce4a8>"
            ]
          },
          "metadata": {
            "tags": []
          },
          "execution_count": 31
        },
        {
          "output_type": "display_data",
          "data": {
            "image/png": "[encoded data removed]",
            "text/plain": [
              "<Figure size 432x288 with 2 Axes>"
            ]
          },
          "metadata": {
            "tags": [],
            "needs_background": "light"
          }
        }
      ]
    },
    {
      "cell_type": "code",
      "metadata": {
        "id": "jO6MwnALb9s5",
        "colab_type": "code",
        "colab": {
          "base_uri": "https://localhost:8080/",
          "height": 295
        },
        "outputId": "b3dd3ed4-ba14-44ae-b42c-76f112d569c6"
      },
      "source": [
        "#Plotting scatter plots\n",
        "plt.scatter(df[\"Bluecars_taken\"] , df[\"Bluecars_returned\"])\n",
        "\n",
        "# Giving our scatterplot a title\n",
        "plt.title('Bluecars taken vs Bluecars taken')\n",
        "\n",
        "# Labelling our x axis\n",
        "plt.xlabel('Bluecars taken')\n",
        "\n",
        "# Labelling our y axis\n",
        "plt.ylabel('Bluecars returned')\n",
        "\n",
        "# We then display our scatterplot as shown below\n",
        "plt.show()"
      ],
      "execution_count": 32,
      "outputs": [
        {
          "output_type": "display_data",
          "data": {
            "image/png": "[encoded data removed]",
            "text/plain": [
              "<Figure size 432x288 with 1 Axes>"
            ]
          },
          "metadata": {
            "tags": [],
            "needs_background": "light"
          }
        }
      ]
    },
    {
      "cell_type": "markdown",
      "metadata": {
        "id": "rYCDYbkhKMXd",
        "colab_type": "text"
      },
      "source": [
        "**Summary**\n",
        "\n",
        "1.   There is a perfeect correlation between number of bluecars taken and number of bluecars returned during the week and on weekends\n"
      ]
    },
    {
      "cell_type": "markdown",
      "metadata": {
        "id": "bRorKS7gHd-t",
        "colab_type": "text"
      },
      "source": [
        "## 7. Hypothesis Testing"
      ]
    },
    {
      "cell_type": "markdown",
      "metadata": {
        "id": "NVuFRvdVDxze",
        "colab_type": "text"
      },
      "source": [
        "**Checking for assumptions between the number of Bluecars taken from  sample_weekday_df and sample_weekend_df**"
      ]
    },
    {
      "cell_type": "code",
      "metadata": {
        "id": "G7TTy1tF1HwD",
        "colab_type": "code",
        "colab": {
          "base_uri": "https://localhost:8080/",
          "height": 119
        },
        "outputId": "b3f8912c-78b9-49e9-e9bd-b55dfef196c5"
      },
      "source": [
        "#First lets create a new dataframe frame containing sample records of bluecars taken \n",
        "data_weekday = sample_weekday_df['Bluecars_taken']\n",
        "data_weekday.head()"
      ],
      "execution_count": 36,
      "outputs": [
        {
          "output_type": "execute_result",
          "data": {
            "text/plain": [
              "3391     44\n",
              "7933     71\n",
              "4566     57\n",
              "4104    101\n",
              "168     171\n",
              "Name: Bluecars_taken, dtype: int64"
            ]
          },
          "metadata": {
            "tags": []
          },
          "execution_count": 36
        }
      ]
    },
    {
      "cell_type": "code",
      "metadata": {
        "id": "ugGhNCX7kezS",
        "colab_type": "code",
        "colab": {
          "base_uri": "https://localhost:8080/",
          "height": 51
        },
        "outputId": "ad0544eb-cfb2-46c3-94a6-2a848dbd34e9"
      },
      "source": [
        "#Normality test\n",
        "#We will use shapiro wilk test to test if numbers of Bluecars taken during the\n",
        "# week and on weekends are normally distributed\n",
        "from scipy.stats import shapiro\n",
        "stat, p = shapiro(data_weekday)\n",
        "print('Statistics=%.3f, p=%.3f' % (stat, p))\n",
        "# interpret\n",
        "alpha = 0.05\n",
        "if p > alpha:\n",
        "\tprint('Sample looks Gaussian')\n",
        "else:\n",
        "\tprint('Sample does not look Gaussian')"
      ],
      "execution_count": 38,
      "outputs": [
        {
          "output_type": "stream",
          "text": [
            "Statistics=0.759, p=0.000\n",
            "Sample does not look Gaussian\n"
          ],
          "name": "stdout"
        }
      ]
    },
    {
      "cell_type": "code",
      "metadata": {
        "id": "ELEzGcJL2Rqw",
        "colab_type": "code",
        "colab": {
          "base_uri": "https://localhost:8080/",
          "height": 119
        },
        "outputId": "67f04443-847c-4fe1-91bf-b5baba59be88"
      },
      "source": [
        "#We then create a new dataframe frame containing sample records of bluecars taken \n",
        "#from sample_weekend_df\n",
        "data_weekend = sample_weekend_df['Bluecars_taken']\n",
        "data_weekend.head()"
      ],
      "execution_count": 39,
      "outputs": [
        {
          "output_type": "execute_result",
          "data": {
            "text/plain": [
              "1430     92\n",
              "2233    221\n",
              "2248    155\n",
              "2985     50\n",
              "3321     28\n",
              "Name: Bluecars_taken, dtype: int64"
            ]
          },
          "metadata": {
            "tags": []
          },
          "execution_count": 39
        }
      ]
    },
    {
      "cell_type": "code",
      "metadata": {
        "id": "HrHcrKSB3JGS",
        "colab_type": "code",
        "colab": {
          "base_uri": "https://localhost:8080/",
          "height": 51
        },
        "outputId": "272eb74f-04d2-4ffd-9124-507a654fba5b"
      },
      "source": [
        "#Test for normality for bluecars taken during the weekend\n",
        "from scipy.stats import shapiro\n",
        "stat, p = shapiro(data_weekend)\n",
        "print('Statistics=%.3f, p=%.3f' % (stat, p))\n",
        "# interpret\n",
        "alpha = 0.05\n",
        "if p > alpha:\n",
        "\tprint('Sample looks Gaussian')\n",
        "else:\n",
        "\tprint('Sample does not look Gaussian')"
      ],
      "execution_count": 40,
      "outputs": [
        {
          "output_type": "stream",
          "text": [
            "Statistics=0.712, p=0.000\n",
            "Sample does not look Gaussian\n"
          ],
          "name": "stdout"
        }
      ]
    },
    {
      "cell_type": "markdown",
      "metadata": {
        "id": "tTpVGAeD6UkE",
        "colab_type": "text"
      },
      "source": [
        "Since both of our datasets do not follow a normal distribution, we reject the use of all parametric tests and consider using non parametric test.\n",
        "\n",
        "In our case we will use Wilcoxon Signed-Rank Test for two paired samples since our samples are drawn from the same population.\n",
        "\n",
        "Our hypothesis as defined earlier:\n",
        "\n",
        "**Null and Alternative hypothesis**\n",
        "\n",
        "Ho: mu₁ = mu₂\n",
        "\n",
        "H1: mu₁ != mu₂\n",
        "\n",
        "We will define our alpha = 0.05\n",
        "\n",
        "**Asumptions**\n",
        "\n",
        "To use Wilcoxon Signed-Rank test both dataset x and y need to have the **same** **length** and their should be atleast **20 records**"
      ]
    },
    {
      "cell_type": "code",
      "metadata": {
        "id": "nq9hgJl--VSe",
        "colab_type": "code",
        "colab": {
          "base_uri": "https://localhost:8080/",
          "height": 34
        },
        "outputId": "52593a1d-7638-49c9-fe31-e1373d2ad6c7"
      },
      "source": [
        "#To satisfy the assumptions we will choose another random sample of 50 records from both our datasets\n",
        "df1 =data_weekday.sample(n=50,replace=\"False\")\n",
        "df1.shape"
      ],
      "execution_count": 42,
      "outputs": [
        {
          "output_type": "execute_result",
          "data": {
            "text/plain": [
              "(50,)"
            ]
          },
          "metadata": {
            "tags": []
          },
          "execution_count": 42
        }
      ]
    },
    {
      "cell_type": "code",
      "metadata": {
        "id": "kR1T9XrAARKV",
        "colab_type": "code",
        "colab": {
          "base_uri": "https://localhost:8080/",
          "height": 34
        },
        "outputId": "87b09752-5c68-423b-d3d7-52f70daf04ed"
      },
      "source": [
        "df2 =data_weekend.sample(n=50,replace=\"False\")\n",
        "df2.shape"
      ],
      "execution_count": 43,
      "outputs": [
        {
          "output_type": "execute_result",
          "data": {
            "text/plain": [
              "(50,)"
            ]
          },
          "metadata": {
            "tags": []
          },
          "execution_count": 43
        }
      ]
    },
    {
      "cell_type": "code",
      "metadata": {
        "id": "bRcOIqkJ6qPf",
        "colab_type": "code",
        "colab": {
          "base_uri": "https://localhost:8080/",
          "height": 51
        },
        "outputId": "925a4f2b-87df-4f39-ce45-07d576d56a4b"
      },
      "source": [
        "from scipy.stats import wilcoxon\n",
        "# compare samples\n",
        "stat, p = wilcoxon(df1, df2)\n",
        "print('Statistics=%.3f, p=%.3f' % (stat, p))\n",
        "# interpret\n",
        "alpha = 0.05\n",
        "if p > alpha:\n",
        "    print('Mean of bluecars taken during weekdays is similar to mean of bluecars taken during the weekend (fail to reject H0)')\n",
        "else:\n",
        "    print('Mean of bluecars taken during weekdays is different to mean of bluecars taken during the weekend (reject H0)')"
      ],
      "execution_count": 45,
      "outputs": [
        {
          "output_type": "stream",
          "text": [
            "Statistics=528.000, p=0.290\n",
            "Mean of bluecars taken during weekdays is similar to mean of bluecars taken during the weekend (fail to reject H0)\n"
          ],
          "name": "stdout"
        }
      ]
    },
    {
      "cell_type": "markdown",
      "metadata": {
        "id": "t_h9e8CDTkPU",
        "colab_type": "text"
      },
      "source": [
        "**Interpretation of results**\n",
        "\n",
        "A Wilcoxon T test was used to analyze the number of blue cars taken during normal weekdays and on weekends to test if there is a significant difference between usage of bluecars on weekdays as compared to weekends. \n",
        "From our results, we can conclude that usage of blue cars is similar on weekends and weekdays. People don’t seem to rent out more bluecars on weekends as claimed by the management of Autolib Carsharing Company.\n"
      ]
    },
    {
      "cell_type": "markdown",
      "metadata": {
        "id": "YqBJsoFNT7fd",
        "colab_type": "text"
      },
      "source": [
        "## 8. Conclusion"
      ]
    },
    {
      "cell_type": "markdown",
      "metadata": {
        "id": "o2wHFOTMUBRN",
        "colab_type": "text"
      },
      "source": [
        ""
      ]
    }
  ]
}